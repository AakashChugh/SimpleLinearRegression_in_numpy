{
 "cells": [
  {
   "cell_type": "code",
   "execution_count": 1,
   "metadata": {
    "ExecuteTime": {
     "end_time": "2019-08-16T15:54:29.704815Z",
     "start_time": "2019-08-16T15:54:29.364795Z"
    }
   },
   "outputs": [],
   "source": [
    "import pandas as pd\n",
    "import math\n",
    "import numpy as np"
   ]
  },
  {
   "cell_type": "code",
   "execution_count": 177,
   "metadata": {
    "ExecuteTime": {
     "end_time": "2019-08-18T13:04:14.630244Z",
     "start_time": "2019-08-18T13:04:14.574392Z"
    }
   },
   "outputs": [],
   "source": [
    "df = pd.read_csv(\"Advertising.csv\")"
   ]
  },
  {
   "cell_type": "code",
   "execution_count": 4,
   "metadata": {
    "ExecuteTime": {
     "end_time": "2019-08-16T15:54:35.298376Z",
     "start_time": "2019-08-16T15:54:35.272448Z"
    }
   },
   "outputs": [
    {
     "data": {
      "text/html": [
       "<div>\n",
       "<style scoped>\n",
       "    .dataframe tbody tr th:only-of-type {\n",
       "        vertical-align: middle;\n",
       "    }\n",
       "\n",
       "    .dataframe tbody tr th {\n",
       "        vertical-align: top;\n",
       "    }\n",
       "\n",
       "    .dataframe thead th {\n",
       "        text-align: right;\n",
       "    }\n",
       "</style>\n",
       "<table border=\"1\" class=\"dataframe\">\n",
       "  <thead>\n",
       "    <tr style=\"text-align: right;\">\n",
       "      <th></th>\n",
       "      <th>Unnamed: 0</th>\n",
       "      <th>TV</th>\n",
       "      <th>radio</th>\n",
       "      <th>newspaper</th>\n",
       "      <th>sales</th>\n",
       "    </tr>\n",
       "  </thead>\n",
       "  <tbody>\n",
       "    <tr>\n",
       "      <th>0</th>\n",
       "      <td>1</td>\n",
       "      <td>230.1</td>\n",
       "      <td>37.8</td>\n",
       "      <td>69.2</td>\n",
       "      <td>22.1</td>\n",
       "    </tr>\n",
       "    <tr>\n",
       "      <th>1</th>\n",
       "      <td>2</td>\n",
       "      <td>44.5</td>\n",
       "      <td>39.3</td>\n",
       "      <td>45.1</td>\n",
       "      <td>10.4</td>\n",
       "    </tr>\n",
       "    <tr>\n",
       "      <th>2</th>\n",
       "      <td>3</td>\n",
       "      <td>17.2</td>\n",
       "      <td>45.9</td>\n",
       "      <td>69.3</td>\n",
       "      <td>9.3</td>\n",
       "    </tr>\n",
       "    <tr>\n",
       "      <th>3</th>\n",
       "      <td>4</td>\n",
       "      <td>151.5</td>\n",
       "      <td>41.3</td>\n",
       "      <td>58.5</td>\n",
       "      <td>18.5</td>\n",
       "    </tr>\n",
       "    <tr>\n",
       "      <th>4</th>\n",
       "      <td>5</td>\n",
       "      <td>180.8</td>\n",
       "      <td>10.8</td>\n",
       "      <td>58.4</td>\n",
       "      <td>12.9</td>\n",
       "    </tr>\n",
       "  </tbody>\n",
       "</table>\n",
       "</div>"
      ],
      "text/plain": [
       "   Unnamed: 0     TV  radio  newspaper  sales\n",
       "0           1  230.1   37.8       69.2   22.1\n",
       "1           2   44.5   39.3       45.1   10.4\n",
       "2           3   17.2   45.9       69.3    9.3\n",
       "3           4  151.5   41.3       58.5   18.5\n",
       "4           5  180.8   10.8       58.4   12.9"
      ]
     },
     "execution_count": 4,
     "metadata": {},
     "output_type": "execute_result"
    }
   ],
   "source": [
    "df.head()"
   ]
  },
  {
   "cell_type": "code",
   "execution_count": 204,
   "metadata": {
    "ExecuteTime": {
     "end_time": "2019-08-18T13:30:13.703998Z",
     "start_time": "2019-08-18T13:30:13.699011Z"
    }
   },
   "outputs": [],
   "source": [
    "x=df.TV\n",
    "y= df.sales"
   ]
  },
  {
   "cell_type": "code",
   "execution_count": 14,
   "metadata": {
    "ExecuteTime": {
     "end_time": "2019-08-14T20:31:28.300313Z",
     "start_time": "2019-08-14T20:31:28.296318Z"
    }
   },
   "outputs": [],
   "source": [
    "#y = mx+c\n",
    "# m = sigma i=1 to n (xi-x mean)(yi-y mean)/(xi-x mean)^2"
   ]
  },
  {
   "cell_type": "code",
   "execution_count": 6,
   "metadata": {
    "ExecuteTime": {
     "end_time": "2019-08-16T15:54:38.946474Z",
     "start_time": "2019-08-16T15:54:38.934509Z"
    }
   },
   "outputs": [
    {
     "name": "stdout",
     "output_type": "stream",
     "text": [
      "147.0425 14.022500000000003\n"
     ]
    }
   ],
   "source": [
    "x_mean = x.mean()\n",
    "y_mean = y.mean()\n",
    "\n",
    "print(x_mean,y_mean)"
   ]
  },
  {
   "cell_type": "markdown",
   "metadata": {},
   "source": [
    "# Define a function to find slope"
   ]
  },
  {
   "cell_type": "code",
   "execution_count": 49,
   "metadata": {
    "ExecuteTime": {
     "end_time": "2019-08-16T18:21:35.011572Z",
     "start_time": "2019-08-16T18:21:35.006586Z"
    }
   },
   "outputs": [],
   "source": [
    "def slr_slope(x,y):\n",
    "    slope = ((x-x.mean())*(y-y.mean())).sum()/(np.square(x-x.mean())).sum()\n",
    "    return(slope)"
   ]
  },
  {
   "cell_type": "code",
   "execution_count": 50,
   "metadata": {
    "ExecuteTime": {
     "end_time": "2019-08-16T18:21:35.520586Z",
     "start_time": "2019-08-16T18:21:35.513606Z"
    }
   },
   "outputs": [
    {
     "data": {
      "text/plain": [
       "0.047536640433019736"
      ]
     },
     "execution_count": 50,
     "metadata": {},
     "output_type": "execute_result"
    }
   ],
   "source": [
    "m= slr_slope(x,y)\n",
    "m"
   ]
  },
  {
   "cell_type": "markdown",
   "metadata": {},
   "source": [
    "# Define a function to find the intercept"
   ]
  },
  {
   "cell_type": "code",
   "execution_count": 18,
   "metadata": {
    "ExecuteTime": {
     "end_time": "2019-08-16T15:56:04.988655Z",
     "start_time": "2019-08-16T15:56:04.984666Z"
    }
   },
   "outputs": [],
   "source": [
    "def slr_intercept(x,y):\n",
    "    c = y.mean()-(m*x.mean())\n",
    "    return(c)"
   ]
  },
  {
   "cell_type": "code",
   "execution_count": 205,
   "metadata": {
    "ExecuteTime": {
     "end_time": "2019-08-18T13:42:17.423842Z",
     "start_time": "2019-08-18T13:42:17.416897Z"
    }
   },
   "outputs": [
    {
     "data": {
      "text/plain": [
       "7.032593549127698"
      ]
     },
     "execution_count": 205,
     "metadata": {},
     "output_type": "execute_result"
    }
   ],
   "source": [
    "c = slr_intercept(x,y)\n",
    "c"
   ]
  },
  {
   "cell_type": "markdown",
   "metadata": {},
   "source": [
    "# Function  to calculate estimates of slope and intercept (parameters)"
   ]
  },
  {
   "cell_type": "code",
   "execution_count": 47,
   "metadata": {
    "ExecuteTime": {
     "end_time": "2019-08-16T18:21:12.730057Z",
     "start_time": "2019-08-16T18:21:12.722082Z"
    }
   },
   "outputs": [],
   "source": [
    "def slr_coef(x,y):\n",
    "    slope = ((x-x.mean())*(y-y.mean())).sum()/(np.square(x-x.mean())).sum()\n",
    "    intercept = y.mean()-(slope*x.mean())\n",
    "    return(slope,intercept)"
   ]
  },
  {
   "cell_type": "code",
   "execution_count": 48,
   "metadata": {
    "ExecuteTime": {
     "end_time": "2019-08-16T18:21:13.243872Z",
     "start_time": "2019-08-16T18:21:13.235894Z"
    }
   },
   "outputs": [
    {
     "data": {
      "text/plain": [
       "(0.047536640433019736, 7.032593549127698)"
      ]
     },
     "execution_count": 48,
     "metadata": {},
     "output_type": "execute_result"
    }
   ],
   "source": [
    "m,c=slr_coef(x,y)\n",
    "m,c"
   ]
  },
  {
   "cell_type": "markdown",
   "metadata": {},
   "source": [
    "# Function to calculate Residual sum of squares"
   ]
  },
  {
   "cell_type": "code",
   "execution_count": 41,
   "metadata": {
    "ExecuteTime": {
     "end_time": "2019-08-16T18:20:03.624204Z",
     "start_time": "2019-08-16T18:20:03.618223Z"
    }
   },
   "outputs": [],
   "source": [
    "def slr_rss(x,y):\n",
    "    rss = (np.square(y-c-(m*x))).sum()\n",
    "    return(rss)"
   ]
  },
  {
   "cell_type": "code",
   "execution_count": 42,
   "metadata": {
    "ExecuteTime": {
     "end_time": "2019-08-16T18:20:04.171915Z",
     "start_time": "2019-08-16T18:20:04.166930Z"
    }
   },
   "outputs": [],
   "source": [
    "rss = slr_rss(x,y)"
   ]
  },
  {
   "cell_type": "code",
   "execution_count": 139,
   "metadata": {
    "ExecuteTime": {
     "end_time": "2019-08-16T20:45:14.834070Z",
     "start_time": "2019-08-16T20:45:14.826083Z"
    }
   },
   "outputs": [
    {
     "data": {
      "text/plain": [
       "2102.5305831313512"
      ]
     },
     "execution_count": 139,
     "metadata": {},
     "output_type": "execute_result"
    }
   ],
   "source": [
    "rss"
   ]
  },
  {
   "cell_type": "markdown",
   "metadata": {},
   "source": [
    "# Function to calculate Residual Standard Error"
   ]
  },
  {
   "cell_type": "code",
   "execution_count": 146,
   "metadata": {
    "ExecuteTime": {
     "end_time": "2019-08-16T20:52:12.078054Z",
     "start_time": "2019-08-16T20:52:12.070064Z"
    }
   },
   "outputs": [],
   "source": [
    "def slr_rse(x,y):\n",
    "    rss = (np.square(y-c-(m*x))).sum()\n",
    "    rse = np.sqrt(rss/(len(x)-2))\n",
    "    return(rse)"
   ]
  },
  {
   "cell_type": "code",
   "execution_count": 147,
   "metadata": {
    "ExecuteTime": {
     "end_time": "2019-08-16T20:52:12.717274Z",
     "start_time": "2019-08-16T20:52:12.705289Z"
    }
   },
   "outputs": [
    {
     "data": {
      "text/plain": [
       "3.2586563686504624"
      ]
     },
     "execution_count": 147,
     "metadata": {},
     "output_type": "execute_result"
    }
   ],
   "source": [
    "slr_rse(x,y)"
   ]
  },
  {
   "cell_type": "markdown",
   "metadata": {},
   "source": [
    "# Function to calculate R square static"
   ]
  },
  {
   "cell_type": "code",
   "execution_count": 148,
   "metadata": {
    "ExecuteTime": {
     "end_time": "2019-08-16T20:57:47.057429Z",
     "start_time": "2019-08-16T20:57:47.045448Z"
    }
   },
   "outputs": [],
   "source": [
    "def slr_r2(x,y):\n",
    "    tss = np.square((y-y.mean())).sum()\n",
    "    rss = (np.square(y-c-(m*x))).sum()\n",
    "    r2 = 1 - (rss/tss)\n",
    "    return(r2)"
   ]
  },
  {
   "cell_type": "code",
   "execution_count": 149,
   "metadata": {
    "ExecuteTime": {
     "end_time": "2019-08-16T20:57:59.056921Z",
     "start_time": "2019-08-16T20:57:59.047703Z"
    }
   },
   "outputs": [
    {
     "data": {
      "text/plain": [
       "0.611875050850071"
      ]
     },
     "execution_count": 149,
     "metadata": {},
     "output_type": "execute_result"
    }
   ],
   "source": [
    "slr_r2(x,y)"
   ]
  },
  {
   "cell_type": "markdown",
   "metadata": {},
   "source": [
    "# Function to predict sales on a test datapoint"
   ]
  },
  {
   "cell_type": "code",
   "execution_count": 191,
   "metadata": {
    "ExecuteTime": {
     "end_time": "2019-08-18T13:11:45.422151Z",
     "start_time": "2019-08-18T13:11:45.417165Z"
    }
   },
   "outputs": [],
   "source": [
    "def slr_prediction(slope,test_datapoint,intercept):\n",
    "    y = ((slope*test_datapoint)+intercept)\n",
    "    return(y)"
   ]
  },
  {
   "cell_type": "code",
   "execution_count": 206,
   "metadata": {
    "ExecuteTime": {
     "end_time": "2019-08-18T14:02:06.223156Z",
     "start_time": "2019-08-18T14:02:06.217172Z"
    }
   },
   "outputs": [
    {
     "data": {
      "text/plain": [
       "78.3375541986573"
      ]
     },
     "execution_count": 206,
     "metadata": {},
     "output_type": "execute_result"
    }
   ],
   "source": [
    "slr_prediction(m,1500,intercept=c)"
   ]
  },
  {
   "cell_type": "markdown",
   "metadata": {},
   "source": [
    "# Wrapping up the logic in class"
   ]
  },
  {
   "cell_type": "code",
   "execution_count": 200,
   "metadata": {
    "ExecuteTime": {
     "end_time": "2019-08-18T13:16:04.020961Z",
     "start_time": "2019-08-18T13:16:04.008995Z"
    }
   },
   "outputs": [],
   "source": [
    "class simple_linear_regression:\n",
    "    def __init__(self,x,y):\n",
    "        self.x = x\n",
    "        self.y = y\n",
    "        \n",
    "    def slr_slope(self):\n",
    "        slope = ((self.x-self.x.mean())*(self.y-self.y.mean())).sum()/(np.square(self.x-self.x.mean())).sum()\n",
    "        return slope\n",
    "    \n",
    "    def slr_intercept(self):\n",
    "        intercept = self.y.mean()-(self.slr_slope()*self.x.mean())\n",
    "        return intercept\n",
    "    \n",
    "    def slr_coef(self):\n",
    "        coef = self.slr_slope(),self.slr_intercept()\n",
    "        return coef\n",
    "    \n",
    "    def slr_rss(self):\n",
    "        rss = (np.square(self.y-self.slr_intercept()-(self.slr_slope()*self.x))).sum()\n",
    "        return rss\n",
    "    \n",
    "    def slr_rse(self):\n",
    "        rse = np.sqrt(self.slr_rss()/(len(self.x)-2))\n",
    "        return rse\n",
    "    \n",
    "    def slr_r2(self):\n",
    "        tss = np.square((self.y-self.y.mean())).sum()\n",
    "        r2 = 1-(self.slr_rss()/tss)\n",
    "        return r2\n",
    "    \n",
    "    def slr_prediction(self,test_datapoint):\n",
    "        pred = (self.slr_slope()*test_datapoint) + self.slr_intercept()\n",
    "        return pred\n",
    "        "
   ]
  },
  {
   "cell_type": "code",
   "execution_count": 201,
   "metadata": {
    "ExecuteTime": {
     "end_time": "2019-08-18T13:16:06.619247Z",
     "start_time": "2019-08-18T13:16:06.614172Z"
    }
   },
   "outputs": [],
   "source": [
    "slr1 = simple_linear_regression(x,y)"
   ]
  },
  {
   "cell_type": "code",
   "execution_count": 195,
   "metadata": {
    "ExecuteTime": {
     "end_time": "2019-08-18T13:14:39.547541Z",
     "start_time": "2019-08-18T13:14:39.534576Z"
    }
   },
   "outputs": [
    {
     "data": {
      "text/plain": [
       "(0.047536640433019736, 7.032593549127698)"
      ]
     },
     "execution_count": 195,
     "metadata": {},
     "output_type": "execute_result"
    }
   ],
   "source": [
    "slr1.slr_coef()"
   ]
  },
  {
   "cell_type": "code",
   "execution_count": 196,
   "metadata": {
    "ExecuteTime": {
     "end_time": "2019-08-18T13:14:40.206496Z",
     "start_time": "2019-08-18T13:14:40.197523Z"
    }
   },
   "outputs": [
    {
     "data": {
      "text/plain": [
       "2102.5305831313512"
      ]
     },
     "execution_count": 196,
     "metadata": {},
     "output_type": "execute_result"
    }
   ],
   "source": [
    "slr1.slr_rss()"
   ]
  },
  {
   "cell_type": "code",
   "execution_count": 197,
   "metadata": {
    "ExecuteTime": {
     "end_time": "2019-08-18T13:14:40.555420Z",
     "start_time": "2019-08-18T13:14:40.542458Z"
    }
   },
   "outputs": [
    {
     "data": {
      "text/plain": [
       "3.2586563686504624"
      ]
     },
     "execution_count": 197,
     "metadata": {},
     "output_type": "execute_result"
    }
   ],
   "source": [
    "slr1.slr_rse()"
   ]
  },
  {
   "cell_type": "code",
   "execution_count": 198,
   "metadata": {
    "ExecuteTime": {
     "end_time": "2019-08-18T13:14:41.044014Z",
     "start_time": "2019-08-18T13:14:41.030052Z"
    }
   },
   "outputs": [
    {
     "data": {
      "text/plain": [
       "0.611875050850071"
      ]
     },
     "execution_count": 198,
     "metadata": {},
     "output_type": "execute_result"
    }
   ],
   "source": [
    "slr1.slr_r2()"
   ]
  },
  {
   "cell_type": "code",
   "execution_count": 207,
   "metadata": {
    "ExecuteTime": {
     "end_time": "2019-08-18T14:16:20.594966Z",
     "start_time": "2019-08-18T14:16:20.584994Z"
    }
   },
   "outputs": [
    {
     "data": {
      "text/plain": [
       "78.3375541986573"
      ]
     },
     "execution_count": 207,
     "metadata": {},
     "output_type": "execute_result"
    }
   ],
   "source": [
    "slr1.slr_prediction(1500)"
   ]
  }
 ],
 "metadata": {
  "kernelspec": {
   "display_name": "Python 3",
   "language": "python",
   "name": "python3"
  },
  "language_info": {
   "codemirror_mode": {
    "name": "ipython",
    "version": 3
   },
   "file_extension": ".py",
   "mimetype": "text/x-python",
   "name": "python",
   "nbconvert_exporter": "python",
   "pygments_lexer": "ipython3",
   "version": "3.7.3"
  },
  "nbTranslate": {
   "displayLangs": [
    "*"
   ],
   "hotkey": "alt-t",
   "langInMainMenu": true,
   "sourceLang": "en",
   "targetLang": "fr",
   "useGoogleTranslate": true
  },
  "toc": {
   "base_numbering": 1,
   "nav_menu": {},
   "number_sections": true,
   "sideBar": true,
   "skip_h1_title": false,
   "title_cell": "Table of Contents",
   "title_sidebar": "Contents",
   "toc_cell": false,
   "toc_position": {},
   "toc_section_display": true,
   "toc_window_display": false
  }
 },
 "nbformat": 4,
 "nbformat_minor": 2
}
